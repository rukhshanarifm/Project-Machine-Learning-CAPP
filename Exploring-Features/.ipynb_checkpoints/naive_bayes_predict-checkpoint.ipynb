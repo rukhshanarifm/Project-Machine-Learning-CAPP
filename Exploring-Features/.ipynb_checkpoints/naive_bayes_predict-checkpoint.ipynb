{
 "cells": [
  {
   "cell_type": "markdown",
   "metadata": {},
   "source": [
    "# Naive Bayes Model\n",
    "Yue, Maca, Rukhshan | May 2020"
   ]
  },
  {
   "cell_type": "markdown",
   "metadata": {},
   "source": [
    "### Content:\n",
    "0. Prepare Datasets: read the data and split them into training and test data\n",
    "1. Transform Dataset: transform continuous variables to categorical variables\n",
    "2. Prepare Features and Targets: prepare for both models (one with all features and one with a subset of features)\n",
    "3. Modeling: Find the best estimators for model including all features, and use it to predict test data\n",
    "4. Modeling: Find the best estimators for model including just the subset of features, and use it to predict test data"
   ]
  },
  {
   "cell_type": "markdown",
   "metadata": {},
   "source": [
    "### 0. Prepare Datasets"
   ]
  },
  {
   "cell_type": "code",
   "execution_count": 129,
   "metadata": {},
   "outputs": [
    {
     "data": {
      "text/html": [
       "<div>\n",
       "<style scoped>\n",
       "    .dataframe tbody tr th:only-of-type {\n",
       "        vertical-align: middle;\n",
       "    }\n",
       "\n",
       "    .dataframe tbody tr th {\n",
       "        vertical-align: top;\n",
       "    }\n",
       "\n",
       "    .dataframe thead th {\n",
       "        text-align: right;\n",
       "    }\n",
       "</style>\n",
       "<table border=\"1\" class=\"dataframe\">\n",
       "  <thead>\n",
       "    <tr style=\"text-align: right;\">\n",
       "      <th></th>\n",
       "      <th>bot</th>\n",
       "      <th>verified</th>\n",
       "      <th>geo_enabled</th>\n",
       "      <th>default_profile</th>\n",
       "      <th>has_description</th>\n",
       "      <th>len_en</th>\n",
       "      <th>followers</th>\n",
       "      <th>friends</th>\n",
       "      <th>listed_count</th>\n",
       "      <th>likes</th>\n",
       "      <th>tweets</th>\n",
       "    </tr>\n",
       "  </thead>\n",
       "  <tbody>\n",
       "    <tr>\n",
       "      <th>0</th>\n",
       "      <td>0</td>\n",
       "      <td>0.0</td>\n",
       "      <td>0.0</td>\n",
       "      <td>1.0</td>\n",
       "      <td>1</td>\n",
       "      <td>0</td>\n",
       "      <td>163</td>\n",
       "      <td>407</td>\n",
       "      <td>0</td>\n",
       "      <td>4193</td>\n",
       "      <td>5761</td>\n",
       "    </tr>\n",
       "    <tr>\n",
       "      <th>1</th>\n",
       "      <td>1</td>\n",
       "      <td>0.0</td>\n",
       "      <td>0.0</td>\n",
       "      <td>1.0</td>\n",
       "      <td>0</td>\n",
       "      <td>0</td>\n",
       "      <td>289</td>\n",
       "      <td>401</td>\n",
       "      <td>1</td>\n",
       "      <td>213</td>\n",
       "      <td>3210</td>\n",
       "    </tr>\n",
       "    <tr>\n",
       "      <th>2</th>\n",
       "      <td>0</td>\n",
       "      <td>0.0</td>\n",
       "      <td>0.0</td>\n",
       "      <td>1.0</td>\n",
       "      <td>1</td>\n",
       "      <td>0</td>\n",
       "      <td>216</td>\n",
       "      <td>214</td>\n",
       "      <td>0</td>\n",
       "      <td>2266</td>\n",
       "      <td>2455</td>\n",
       "    </tr>\n",
       "    <tr>\n",
       "      <th>3</th>\n",
       "      <td>0</td>\n",
       "      <td>0.0</td>\n",
       "      <td>1.0</td>\n",
       "      <td>1.0</td>\n",
       "      <td>1</td>\n",
       "      <td>1</td>\n",
       "      <td>185</td>\n",
       "      <td>492</td>\n",
       "      <td>1</td>\n",
       "      <td>10584</td>\n",
       "      <td>4936</td>\n",
       "    </tr>\n",
       "    <tr>\n",
       "      <th>4</th>\n",
       "      <td>1</td>\n",
       "      <td>0.0</td>\n",
       "      <td>0.0</td>\n",
       "      <td>1.0</td>\n",
       "      <td>0</td>\n",
       "      <td>1</td>\n",
       "      <td>9</td>\n",
       "      <td>26</td>\n",
       "      <td>0</td>\n",
       "      <td>140</td>\n",
       "      <td>2581</td>\n",
       "    </tr>\n",
       "  </tbody>\n",
       "</table>\n",
       "</div>"
      ],
      "text/plain": [
       "   bot  verified  geo_enabled  default_profile  has_description  len_en  \\\n",
       "0    0       0.0          0.0              1.0                1       0   \n",
       "1    1       0.0          0.0              1.0                0       0   \n",
       "2    0       0.0          0.0              1.0                1       0   \n",
       "3    0       0.0          1.0              1.0                1       1   \n",
       "4    1       0.0          0.0              1.0                0       1   \n",
       "\n",
       "   followers  friends  listed_count  likes  tweets  \n",
       "0        163      407             0   4193    5761  \n",
       "1        289      401             1    213    3210  \n",
       "2        216      214             0   2266    2455  \n",
       "3        185      492             1  10584    4936  \n",
       "4          9       26             0    140    2581  "
      ]
     },
     "execution_count": 129,
     "metadata": {},
     "output_type": "execute_result"
    }
   ],
   "source": [
    "import pandas as pd\n",
    "import numpy as np\n",
    "import pipeline as p\n",
    "import matplotlib.pyplot as plt\n",
    "import seaborn as sns\n",
    "import warnings\n",
    "warnings.filterwarnings('ignore')\n",
    "\n",
    "df = pd.read_csv(\"../Data-Cleaning/verified.csv\")\n",
    "df.head()"
   ]
  },
  {
   "cell_type": "markdown",
   "metadata": {},
   "source": [
    "** Note: Since we are turning continuous variables into categorical variables later, we don't need to normalize features here."
   ]
  },
  {
   "cell_type": "markdown",
   "metadata": {},
   "source": [
    "### 1. Transform continuous variables to categorical variables\n",
    "#### Challenges:\n",
    "Scikit Learn's Naive Bayes Model assumes same type of distribution for all features. However, there are multiple types of features in our dataset, including binomial variables(verified, geoenabled, default_profile, has_description, len_en) and continuous variables(followers_count, friends_count, listed_count, favourites_count, statuses_count). \n",
    "\n",
    "To proceed, we decide to assume multinomial distribution for our features for two reasons. First, it is reasonable to transform continuous variables into categorical variables through discretization. Second,binomial distribution is simply a special case of multinomial distribution. "
   ]
  },
  {
   "cell_type": "code",
   "execution_count": 135,
   "metadata": {
    "scrolled": true
   },
   "outputs": [
    {
     "data": {
      "text/html": [
       "<div>\n",
       "<style scoped>\n",
       "    .dataframe tbody tr th:only-of-type {\n",
       "        vertical-align: middle;\n",
       "    }\n",
       "\n",
       "    .dataframe tbody tr th {\n",
       "        vertical-align: top;\n",
       "    }\n",
       "\n",
       "    .dataframe thead th {\n",
       "        text-align: right;\n",
       "    }\n",
       "</style>\n",
       "<table border=\"1\" class=\"dataframe\">\n",
       "  <thead>\n",
       "    <tr style=\"text-align: right;\">\n",
       "      <th></th>\n",
       "      <th>bot</th>\n",
       "      <th>verified</th>\n",
       "      <th>geo_enabled</th>\n",
       "      <th>default_profile</th>\n",
       "      <th>has_description</th>\n",
       "      <th>len_en</th>\n",
       "      <th>followers</th>\n",
       "      <th>friends</th>\n",
       "      <th>listed_count</th>\n",
       "      <th>likes</th>\n",
       "      <th>tweets</th>\n",
       "      <th>cat_followers</th>\n",
       "      <th>cat_friends</th>\n",
       "      <th>cat_listed_count</th>\n",
       "      <th>cat_likes</th>\n",
       "      <th>cat_tweets</th>\n",
       "    </tr>\n",
       "  </thead>\n",
       "  <tbody>\n",
       "    <tr>\n",
       "      <th>0</th>\n",
       "      <td>0</td>\n",
       "      <td>0.0</td>\n",
       "      <td>0.0</td>\n",
       "      <td>1.0</td>\n",
       "      <td>1</td>\n",
       "      <td>0</td>\n",
       "      <td>163</td>\n",
       "      <td>407</td>\n",
       "      <td>0</td>\n",
       "      <td>4193</td>\n",
       "      <td>5761</td>\n",
       "      <td>3</td>\n",
       "      <td>3</td>\n",
       "      <td>1</td>\n",
       "      <td>4</td>\n",
       "      <td>4</td>\n",
       "    </tr>\n",
       "    <tr>\n",
       "      <th>1</th>\n",
       "      <td>1</td>\n",
       "      <td>0.0</td>\n",
       "      <td>0.0</td>\n",
       "      <td>1.0</td>\n",
       "      <td>0</td>\n",
       "      <td>0</td>\n",
       "      <td>289</td>\n",
       "      <td>401</td>\n",
       "      <td>1</td>\n",
       "      <td>213</td>\n",
       "      <td>3210</td>\n",
       "      <td>3</td>\n",
       "      <td>3</td>\n",
       "      <td>1</td>\n",
       "      <td>3</td>\n",
       "      <td>4</td>\n",
       "    </tr>\n",
       "    <tr>\n",
       "      <th>2</th>\n",
       "      <td>0</td>\n",
       "      <td>0.0</td>\n",
       "      <td>0.0</td>\n",
       "      <td>1.0</td>\n",
       "      <td>1</td>\n",
       "      <td>0</td>\n",
       "      <td>216</td>\n",
       "      <td>214</td>\n",
       "      <td>0</td>\n",
       "      <td>2266</td>\n",
       "      <td>2455</td>\n",
       "      <td>3</td>\n",
       "      <td>3</td>\n",
       "      <td>1</td>\n",
       "      <td>4</td>\n",
       "      <td>4</td>\n",
       "    </tr>\n",
       "    <tr>\n",
       "      <th>3</th>\n",
       "      <td>0</td>\n",
       "      <td>0.0</td>\n",
       "      <td>1.0</td>\n",
       "      <td>1.0</td>\n",
       "      <td>1</td>\n",
       "      <td>1</td>\n",
       "      <td>185</td>\n",
       "      <td>492</td>\n",
       "      <td>1</td>\n",
       "      <td>10584</td>\n",
       "      <td>4936</td>\n",
       "      <td>3</td>\n",
       "      <td>3</td>\n",
       "      <td>1</td>\n",
       "      <td>5</td>\n",
       "      <td>4</td>\n",
       "    </tr>\n",
       "    <tr>\n",
       "      <th>4</th>\n",
       "      <td>1</td>\n",
       "      <td>0.0</td>\n",
       "      <td>0.0</td>\n",
       "      <td>1.0</td>\n",
       "      <td>0</td>\n",
       "      <td>1</td>\n",
       "      <td>9</td>\n",
       "      <td>26</td>\n",
       "      <td>0</td>\n",
       "      <td>140</td>\n",
       "      <td>2581</td>\n",
       "      <td>1</td>\n",
       "      <td>2</td>\n",
       "      <td>1</td>\n",
       "      <td>3</td>\n",
       "      <td>4</td>\n",
       "    </tr>\n",
       "  </tbody>\n",
       "</table>\n",
       "</div>"
      ],
      "text/plain": [
       "   bot  verified  geo_enabled  default_profile  has_description  len_en  \\\n",
       "0    0       0.0          0.0              1.0                1       0   \n",
       "1    1       0.0          0.0              1.0                0       0   \n",
       "2    0       0.0          0.0              1.0                1       0   \n",
       "3    0       0.0          1.0              1.0                1       1   \n",
       "4    1       0.0          0.0              1.0                0       1   \n",
       "\n",
       "   followers  friends  listed_count  likes  tweets cat_followers cat_friends  \\\n",
       "0        163      407             0   4193    5761             3           3   \n",
       "1        289      401             1    213    3210             3           3   \n",
       "2        216      214             0   2266    2455             3           3   \n",
       "3        185      492             1  10584    4936             3           3   \n",
       "4          9       26             0    140    2581             1           2   \n",
       "\n",
       "  cat_listed_count cat_likes cat_tweets  \n",
       "0                1         4          4  \n",
       "1                1         3          4  \n",
       "2                1         4          4  \n",
       "3                1         5          4  \n",
       "4                1         3          4  "
      ]
     },
     "execution_count": 135,
     "metadata": {},
     "output_type": "execute_result"
    }
   ],
   "source": [
    "# We are patitioning each continuous variables into 5 bins\n",
    "continuous_var = [\"followers\",\"friends\",\"listed_count\",\"likes\",\"tweets\"]\n",
    "def transform_cont(variables, df):\n",
    "    bin_labels_5 = [1,2,3,4,5] #five levels\n",
    "\n",
    "    for variable in variables :\n",
    "        new_name = \"cat_\"+ variable\n",
    "        cut_bins = [0,10,100,1000,10000, df[variable].max()]\n",
    "        df[new_name] = pd.Series(pd.cut(df[variable], bins=cut_bins, labels=bin_labels_5, include_lowest=True))\n",
    "    return df\n",
    "df = transform_cont(continuous_var, df)\n",
    "df.head()"
   ]
  },
  {
   "cell_type": "code",
   "execution_count": 108,
   "metadata": {},
   "outputs": [
    {
     "name": "stdout",
     "output_type": "stream",
     "text": [
      "Total data before split: 55721\n",
      "Train size data: 44576\n",
      "Test size data: 11145\n"
     ]
    }
   ],
   "source": [
    "# Only keep useful columns\n",
    "df_model= df[['bot', 'verified', 'geo_enabled', 'default_profile', 'has_description', 'len_en', 'cat_followers', \n",
    "                  'cat_friends', 'cat_listed_count', 'cat_likes', 'cat_tweets']]\n",
    "# Split the datasets into training and test data\n",
    "nb_train, nb_test = p.split(df_model)"
   ]
  },
  {
   "cell_type": "markdown",
   "metadata": {},
   "source": [
    "\n",
    "### 2. Prepare Features and Targets"
   ]
  },
  {
   "cell_type": "code",
   "execution_count": 109,
   "metadata": {},
   "outputs": [],
   "source": [
    "import pipeline_yue as py\n",
    "complete_features = ['verified', 'geo_enabled', 'default_profile', 'has_description', 'len_en', 'cat_followers', \n",
    "                  'cat_friends', 'cat_listed_count', 'cat_likes', 'cat_tweets']\n",
    "subset_features = ['verified', 'geo_enabled', 'has_description', 'cat_followers', 'cat_friends', 'cat_likes', 'cat_tweets']\n",
    "train_features_complete = nb_train[complete_features]\n",
    "test_features_complete = nb_test[complete_features]\n",
    "train_features_subset = nb_train[subset_features]\n",
    "test_features_subset = nb_test[subset_features]\n",
    "train_target, test_target = py.get_target(nb_train, nb_test, \"bot\")"
   ]
  },
  {
   "cell_type": "markdown",
   "metadata": {},
   "source": [
    "### 3. Modeling"
   ]
  },
  {
   "cell_type": "markdown",
   "metadata": {},
   "source": [
    "#### 1) Complete Features"
   ]
  },
  {
   "cell_type": "markdown",
   "metadata": {},
   "source": [
    "* Fit the Model Using Grid Search"
   ]
  },
  {
   "cell_type": "code",
   "execution_count": 110,
   "metadata": {},
   "outputs": [
    {
     "data": {
      "text/plain": [
       "GridSearchCV(cv=10, estimator=MultinomialNB(),\n",
       "             param_grid={'alpha': [0.1, 0.2, 0.3, 0.4, 0.5, 0.6, 0.7, 0.8, 0.9,\n",
       "                                   1.0],\n",
       "                         'class_prior': [None, [0.1, 0.9], [0.2, 0.8]],\n",
       "                         'fit_prior': [True, False]},\n",
       "             refit='accuracy', scoring=['accuracy', 'precision', 'recall'])"
      ]
     },
     "execution_count": 110,
     "metadata": {},
     "output_type": "execute_result"
    }
   ],
   "source": [
    "from sklearn.naive_bayes import MultinomialNB\n",
    "from sklearn.model_selection import GridSearchCV\n",
    "\n",
    "naive_bayes = MultinomialNB()\n",
    "# Define parameters\n",
    "alphas = [0.1, 0.2, 0.3, 0.4, 0.5, 0.6, 0.7, 0.8, 0.9, 1.0]\n",
    "params= {'alpha': alphas, 'fit_prior' : [True, False], 'class_prior' : [None, [.1,.9],[.2, .8]]}\n",
    "grid_search = GridSearchCV(estimator = naive_bayes, param_grid = params, scoring = [\"accuracy\", \"precision\",\"recall\"],cv=10, refit='accuracy')\n",
    "# Train the model\n",
    "grid_search.fit(train_features_complete, train_target)"
   ]
  },
  {
   "cell_type": "code",
   "execution_count": 111,
   "metadata": {},
   "outputs": [
    {
     "data": {
      "text/html": [
       "<div>\n",
       "<style scoped>\n",
       "    .dataframe tbody tr th:only-of-type {\n",
       "        vertical-align: middle;\n",
       "    }\n",
       "\n",
       "    .dataframe tbody tr th {\n",
       "        vertical-align: top;\n",
       "    }\n",
       "\n",
       "    .dataframe thead th {\n",
       "        text-align: right;\n",
       "    }\n",
       "</style>\n",
       "<table border=\"1\" class=\"dataframe\">\n",
       "  <thead>\n",
       "    <tr style=\"text-align: right;\">\n",
       "      <th></th>\n",
       "      <th>param_alpha</th>\n",
       "      <th>param_class_prior</th>\n",
       "      <th>param_fit_prior</th>\n",
       "      <th>rank_test_accuracy</th>\n",
       "      <th>mean_test_accuracy</th>\n",
       "      <th>mean_test_precision</th>\n",
       "      <th>mean_test_recall</th>\n",
       "    </tr>\n",
       "  </thead>\n",
       "  <tbody>\n",
       "    <tr>\n",
       "      <th>0</th>\n",
       "      <td>0.1</td>\n",
       "      <td>None</td>\n",
       "      <td>True</td>\n",
       "      <td>1</td>\n",
       "      <td>0.930523</td>\n",
       "      <td>0.940457</td>\n",
       "      <td>0.973461</td>\n",
       "    </tr>\n",
       "    <tr>\n",
       "      <th>54</th>\n",
       "      <td>1</td>\n",
       "      <td>None</td>\n",
       "      <td>True</td>\n",
       "      <td>1</td>\n",
       "      <td>0.930523</td>\n",
       "      <td>0.940457</td>\n",
       "      <td>0.973461</td>\n",
       "    </tr>\n",
       "    <tr>\n",
       "      <th>24</th>\n",
       "      <td>0.5</td>\n",
       "      <td>None</td>\n",
       "      <td>True</td>\n",
       "      <td>1</td>\n",
       "      <td>0.930523</td>\n",
       "      <td>0.940457</td>\n",
       "      <td>0.973461</td>\n",
       "    </tr>\n",
       "    <tr>\n",
       "      <th>36</th>\n",
       "      <td>0.7</td>\n",
       "      <td>None</td>\n",
       "      <td>True</td>\n",
       "      <td>1</td>\n",
       "      <td>0.930523</td>\n",
       "      <td>0.940457</td>\n",
       "      <td>0.973461</td>\n",
       "    </tr>\n",
       "    <tr>\n",
       "      <th>6</th>\n",
       "      <td>0.2</td>\n",
       "      <td>None</td>\n",
       "      <td>True</td>\n",
       "      <td>1</td>\n",
       "      <td>0.930523</td>\n",
       "      <td>0.940457</td>\n",
       "      <td>0.973461</td>\n",
       "    </tr>\n",
       "  </tbody>\n",
       "</table>\n",
       "</div>"
      ],
      "text/plain": [
       "   param_alpha param_class_prior param_fit_prior  rank_test_accuracy  \\\n",
       "0          0.1              None            True                   1   \n",
       "54           1              None            True                   1   \n",
       "24         0.5              None            True                   1   \n",
       "36         0.7              None            True                   1   \n",
       "6          0.2              None            True                   1   \n",
       "\n",
       "    mean_test_accuracy  mean_test_precision  mean_test_recall  \n",
       "0             0.930523             0.940457          0.973461  \n",
       "54            0.930523             0.940457          0.973461  \n",
       "24            0.930523             0.940457          0.973461  \n",
       "36            0.930523             0.940457          0.973461  \n",
       "6             0.930523             0.940457          0.973461  "
      ]
     },
     "execution_count": 111,
     "metadata": {},
     "output_type": "execute_result"
    }
   ],
   "source": [
    "# Store Modeling Results into a Dataset\n",
    "def get_results(cv_results):\n",
    "    cv_results = pd.DataFrame(cv_results)\n",
    "    columns = ['param_alpha','param_class_prior','param_fit_prior' , \n",
    "                       'rank_test_accuracy', 'mean_test_accuracy','mean_test_precision','mean_test_recall']\n",
    "    results = cv_results.sort_values(by='rank_test_accuracy', ascending=True)\n",
    "    results = results[columns]\n",
    "    return results\n",
    "\n",
    "cv_results = grid_search.cv_results_\n",
    "results = get_results(cv_results)\n",
    "results.head()"
   ]
  },
  {
   "cell_type": "code",
   "execution_count": 112,
   "metadata": {},
   "outputs": [
    {
     "name": "stdout",
     "output_type": "stream",
     "text": [
      "0.9305231898889673\n",
      "{'alpha': 0.1, 'class_prior': None, 'fit_prior': True}\n",
      "MultinomialNB(alpha=0.1)\n"
     ]
    }
   ],
   "source": [
    "# Find the Best Model\n",
    "best_estimator_complete = grid_search.best_estimator_\n",
    "print(grid_search.best_score_)\n",
    "print(grid_search.best_params_)\n",
    "print(best_estimator_complete)"
   ]
  },
  {
   "cell_type": "markdown",
   "metadata": {},
   "source": [
    "* Predict Test Data"
   ]
  },
  {
   "cell_type": "code",
   "execution_count": 113,
   "metadata": {
    "scrolled": true
   },
   "outputs": [
    {
     "name": "stdout",
     "output_type": "stream",
     "text": [
      "Accuracy:\t0.9329744279946164\n",
      "Precision:\t0.9415584415584416\n",
      "Recall:\t\t0.9753733895792954\n",
      "F1 Score:\t0.9581676653413227\n",
      "\n"
     ]
    }
   ],
   "source": [
    "# Apply the Best Model to Test Data\n",
    "from sklearn import metrics\n",
    "test_pred_complete = best_estimator_complete.predict(test_features_complete)\n",
    "metrics.confusion_matrix(test_target, test_pred_complete)\n",
    "print(\"Accuracy:\\t{}\\nPrecision:\\t{}\\nRecall:\\t\\t{}\\nF1 Score:\\t{}\\n\".format(metrics.accuracy_score(test_target, test_pred_complete),\n",
    "                                                                           metrics.precision_score(test_target, test_pred_complete),\n",
    "                                                                           metrics.recall_score(test_target, test_pred_complete),\n",
    "                                                                           metrics.f1_score(test_target, test_pred_complete)\n",
    "                                                                          ))"
   ]
  },
  {
   "cell_type": "markdown",
   "metadata": {},
   "source": [
    "* Examine Feature Importance"
   ]
  },
  {
   "cell_type": "code",
   "execution_count": 114,
   "metadata": {
    "scrolled": true
   },
   "outputs": [
    {
     "data": {
      "text/html": [
       "<div>\n",
       "<style scoped>\n",
       "    .dataframe tbody tr th:only-of-type {\n",
       "        vertical-align: middle;\n",
       "    }\n",
       "\n",
       "    .dataframe tbody tr th {\n",
       "        vertical-align: top;\n",
       "    }\n",
       "\n",
       "    .dataframe thead th {\n",
       "        text-align: right;\n",
       "    }\n",
       "</style>\n",
       "<table border=\"1\" class=\"dataframe\">\n",
       "  <thead>\n",
       "    <tr style=\"text-align: right;\">\n",
       "      <th></th>\n",
       "      <th>features_name</th>\n",
       "      <th>feature_log_prob_bots</th>\n",
       "      <th>feature_prob_bots</th>\n",
       "    </tr>\n",
       "  </thead>\n",
       "  <tbody>\n",
       "    <tr>\n",
       "      <th>9</th>\n",
       "      <td>cat_tweets</td>\n",
       "      <td>-1.596909</td>\n",
       "      <td>0.202522</td>\n",
       "    </tr>\n",
       "    <tr>\n",
       "      <th>6</th>\n",
       "      <td>cat_friends</td>\n",
       "      <td>-1.766710</td>\n",
       "      <td>0.170894</td>\n",
       "    </tr>\n",
       "    <tr>\n",
       "      <th>8</th>\n",
       "      <td>cat_likes</td>\n",
       "      <td>-1.904507</td>\n",
       "      <td>0.148896</td>\n",
       "    </tr>\n",
       "    <tr>\n",
       "      <th>5</th>\n",
       "      <td>cat_followers</td>\n",
       "      <td>-2.020325</td>\n",
       "      <td>0.132612</td>\n",
       "    </tr>\n",
       "    <tr>\n",
       "      <th>7</th>\n",
       "      <td>cat_listed_count</td>\n",
       "      <td>-2.215828</td>\n",
       "      <td>0.109063</td>\n",
       "    </tr>\n",
       "  </tbody>\n",
       "</table>\n",
       "</div>"
      ],
      "text/plain": [
       "      features_name  feature_log_prob_bots  feature_prob_bots\n",
       "9        cat_tweets              -1.596909           0.202522\n",
       "6       cat_friends              -1.766710           0.170894\n",
       "8         cat_likes              -1.904507           0.148896\n",
       "5     cat_followers              -2.020325           0.132612\n",
       "7  cat_listed_count              -2.215828           0.109063"
      ]
     },
     "execution_count": 114,
     "metadata": {},
     "output_type": "execute_result"
    }
   ],
   "source": [
    "def get_feature_importance(features,best_estimator):\n",
    "    df_best = pd.DataFrame()\n",
    "    df_best[\"features_name\"] = features\n",
    "    df_best[\"feature_log_prob_bots\"] = best_estimator.coef_.reshape(-1)\n",
    "    df_best[\"feature_prob_bots\"] = np.exp(df_best[\"feature_log_prob_bots\"])\n",
    "    df_best = df_best.sort_values(by='feature_prob_bots', ascending=False)\n",
    "    return df_best\n",
    "\n",
    "df_best_complete = get_feature_importance(complete_features, best_estimator_complete)\n",
    "df_best_complete.head()"
   ]
  },
  {
   "cell_type": "code",
   "execution_count": 117,
   "metadata": {},
   "outputs": [
    {
     "data": {
      "text/plain": [
       "Text(0.5, 1.0, \"Feature Importance of Naive Bayes Model: Probability of the Feature Given Class = 'bot' (Complete Features)\")"
      ]
     },
     "execution_count": 117,
     "metadata": {},
     "output_type": "execute_result"
    },
    {
     "data": {
      "image/png": "[encoded data removed]",
      "text/plain": [
       "<Figure size 1008x360 with 1 Axes>"
      ]
     },
     "metadata": {},
     "output_type": "display_data"
    }
   ],
   "source": [
    "# Visualize Feature Importance\n",
    "sns.set(style=\"whitegrid\")\n",
    "plt.figure(figsize=(14,5))\n",
    "ax = sns.barplot(x=\"features_name\", y=\"feature_prob_bots\", data=df_best_complete,palette=\"Blues_d\")\n",
    "ax.set_title(\"Feature Importance of Naive Bayes Model: Probability of the Feature Given Class = 'bot' (Complete Features)\")"
   ]
  },
  {
   "cell_type": "markdown",
   "metadata": {},
   "source": [
    "#### 2) Subset Features"
   ]
  },
  {
   "cell_type": "markdown",
   "metadata": {},
   "source": [
    "** Note: we also examine only a subset of features because there are three features(\"len_en\",\"listed_count\", that the COVID user profile data we scraped from twitter does not have. "
   ]
  },
  {
   "cell_type": "code",
   "execution_count": 118,
   "metadata": {},
   "outputs": [
    {
     "data": {
      "text/plain": [
       "GridSearchCV(cv=10, estimator=MultinomialNB(),\n",
       "             param_grid={'alpha': [0.1, 0.2, 0.3, 0.4, 0.5, 0.6, 0.7, 0.8, 0.9,\n",
       "                                   1.0],\n",
       "                         'class_prior': [None, [0.1, 0.9], [0.2, 0.8]],\n",
       "                         'fit_prior': [True, False]},\n",
       "             refit='accuracy', scoring=['accuracy', 'precision', 'recall'])"
      ]
     },
     "execution_count": 118,
     "metadata": {},
     "output_type": "execute_result"
    }
   ],
   "source": [
    "# Fit the Model\n",
    "grid_search.fit(train_features_subset, train_target)"
   ]
  },
  {
   "cell_type": "code",
   "execution_count": 119,
   "metadata": {},
   "outputs": [
    {
     "data": {
      "text/html": [
       "<div>\n",
       "<style scoped>\n",
       "    .dataframe tbody tr th:only-of-type {\n",
       "        vertical-align: middle;\n",
       "    }\n",
       "\n",
       "    .dataframe tbody tr th {\n",
       "        vertical-align: top;\n",
       "    }\n",
       "\n",
       "    .dataframe thead th {\n",
       "        text-align: right;\n",
       "    }\n",
       "</style>\n",
       "<table border=\"1\" class=\"dataframe\">\n",
       "  <thead>\n",
       "    <tr style=\"text-align: right;\">\n",
       "      <th></th>\n",
       "      <th>param_alpha</th>\n",
       "      <th>param_class_prior</th>\n",
       "      <th>param_fit_prior</th>\n",
       "      <th>rank_test_accuracy</th>\n",
       "      <th>mean_test_accuracy</th>\n",
       "      <th>mean_test_precision</th>\n",
       "      <th>mean_test_recall</th>\n",
       "    </tr>\n",
       "  </thead>\n",
       "  <tbody>\n",
       "    <tr>\n",
       "      <th>29</th>\n",
       "      <td>0.5</td>\n",
       "      <td>[0.2, 0.8]</td>\n",
       "      <td>False</td>\n",
       "      <td>1</td>\n",
       "      <td>0.91215</td>\n",
       "      <td>0.914808</td>\n",
       "      <td>0.979754</td>\n",
       "    </tr>\n",
       "    <tr>\n",
       "      <th>53</th>\n",
       "      <td>0.9</td>\n",
       "      <td>[0.2, 0.8]</td>\n",
       "      <td>False</td>\n",
       "      <td>1</td>\n",
       "      <td>0.91215</td>\n",
       "      <td>0.914808</td>\n",
       "      <td>0.979754</td>\n",
       "    </tr>\n",
       "    <tr>\n",
       "      <th>52</th>\n",
       "      <td>0.9</td>\n",
       "      <td>[0.2, 0.8]</td>\n",
       "      <td>True</td>\n",
       "      <td>1</td>\n",
       "      <td>0.91215</td>\n",
       "      <td>0.914808</td>\n",
       "      <td>0.979754</td>\n",
       "    </tr>\n",
       "    <tr>\n",
       "      <th>47</th>\n",
       "      <td>0.8</td>\n",
       "      <td>[0.2, 0.8]</td>\n",
       "      <td>False</td>\n",
       "      <td>1</td>\n",
       "      <td>0.91215</td>\n",
       "      <td>0.914808</td>\n",
       "      <td>0.979754</td>\n",
       "    </tr>\n",
       "    <tr>\n",
       "      <th>46</th>\n",
       "      <td>0.8</td>\n",
       "      <td>[0.2, 0.8]</td>\n",
       "      <td>True</td>\n",
       "      <td>1</td>\n",
       "      <td>0.91215</td>\n",
       "      <td>0.914808</td>\n",
       "      <td>0.979754</td>\n",
       "    </tr>\n",
       "  </tbody>\n",
       "</table>\n",
       "</div>"
      ],
      "text/plain": [
       "   param_alpha param_class_prior param_fit_prior  rank_test_accuracy  \\\n",
       "29         0.5        [0.2, 0.8]           False                   1   \n",
       "53         0.9        [0.2, 0.8]           False                   1   \n",
       "52         0.9        [0.2, 0.8]            True                   1   \n",
       "47         0.8        [0.2, 0.8]           False                   1   \n",
       "46         0.8        [0.2, 0.8]            True                   1   \n",
       "\n",
       "    mean_test_accuracy  mean_test_precision  mean_test_recall  \n",
       "29             0.91215             0.914808          0.979754  \n",
       "53             0.91215             0.914808          0.979754  \n",
       "52             0.91215             0.914808          0.979754  \n",
       "47             0.91215             0.914808          0.979754  \n",
       "46             0.91215             0.914808          0.979754  "
      ]
     },
     "execution_count": 119,
     "metadata": {},
     "output_type": "execute_result"
    }
   ],
   "source": [
    "# Store results into a dataset\n",
    "cv_results = grid_search.cv_results_\n",
    "results = get_results(cv_results)\n",
    "results.head()"
   ]
  },
  {
   "cell_type": "code",
   "execution_count": 120,
   "metadata": {},
   "outputs": [
    {
     "name": "stdout",
     "output_type": "stream",
     "text": [
      "0.9121499865168919\n",
      "{'alpha': 0.1, 'class_prior': [0.2, 0.8], 'fit_prior': True}\n",
      "MultinomialNB(alpha=0.1, class_prior=[0.2, 0.8])\n"
     ]
    }
   ],
   "source": [
    "# Find the Best Model\n",
    "best_estimator_subset = grid_search.best_estimator_\n",
    "print(grid_search.best_score_)\n",
    "print(grid_search.best_params_)\n",
    "print(best_estimator_subset)"
   ]
  },
  {
   "cell_type": "markdown",
   "metadata": {},
   "source": [
    "* Predict Test Data"
   ]
  },
  {
   "cell_type": "code",
   "execution_count": 121,
   "metadata": {},
   "outputs": [
    {
     "name": "stdout",
     "output_type": "stream",
     "text": [
      "Accuracy:\t0.9146702557200538\n",
      "Precision:\t0.915427114322142\n",
      "Recall:\t\t0.9823281267814389\n",
      "F1 Score:\t0.9476983996040258\n",
      "\n"
     ]
    }
   ],
   "source": [
    "# Apply the Best Model to Test Data\n",
    "test_pred_subset = best_estimator_subset.predict(test_features_subset)\n",
    "metrics.confusion_matrix(test_target, test_pred_subset)\n",
    "print(\"Accuracy:\\t{}\\nPrecision:\\t{}\\nRecall:\\t\\t{}\\nF1 Score:\\t{}\\n\".format(metrics.accuracy_score(test_target, test_pred_subset),\n",
    "                                                                           metrics.precision_score(test_target, test_pred_subset),\n",
    "                                                                           metrics.recall_score(test_target, test_pred_subset),\n",
    "                                                                           metrics.f1_score(test_target, test_pred_subset)\n",
    "                                                                          ))"
   ]
  },
  {
   "cell_type": "markdown",
   "metadata": {},
   "source": [
    "* Examine Feature Importance"
   ]
  },
  {
   "cell_type": "code",
   "execution_count": 122,
   "metadata": {},
   "outputs": [
    {
     "data": {
      "text/html": [
       "<div>\n",
       "<style scoped>\n",
       "    .dataframe tbody tr th:only-of-type {\n",
       "        vertical-align: middle;\n",
       "    }\n",
       "\n",
       "    .dataframe tbody tr th {\n",
       "        vertical-align: top;\n",
       "    }\n",
       "\n",
       "    .dataframe thead th {\n",
       "        text-align: right;\n",
       "    }\n",
       "</style>\n",
       "<table border=\"1\" class=\"dataframe\">\n",
       "  <thead>\n",
       "    <tr style=\"text-align: right;\">\n",
       "      <th></th>\n",
       "      <th>features_name</th>\n",
       "      <th>feature_log_prob_bots</th>\n",
       "      <th>feature_prob_bots</th>\n",
       "    </tr>\n",
       "  </thead>\n",
       "  <tbody>\n",
       "    <tr>\n",
       "      <th>6</th>\n",
       "      <td>cat_tweets</td>\n",
       "      <td>-1.233993</td>\n",
       "      <td>0.291128</td>\n",
       "    </tr>\n",
       "    <tr>\n",
       "      <th>4</th>\n",
       "      <td>cat_friends</td>\n",
       "      <td>-1.403794</td>\n",
       "      <td>0.245663</td>\n",
       "    </tr>\n",
       "    <tr>\n",
       "      <th>5</th>\n",
       "      <td>cat_likes</td>\n",
       "      <td>-1.541591</td>\n",
       "      <td>0.214040</td>\n",
       "    </tr>\n",
       "    <tr>\n",
       "      <th>3</th>\n",
       "      <td>cat_followers</td>\n",
       "      <td>-1.657409</td>\n",
       "      <td>0.190632</td>\n",
       "    </tr>\n",
       "    <tr>\n",
       "      <th>2</th>\n",
       "      <td>has_description</td>\n",
       "      <td>-2.903580</td>\n",
       "      <td>0.054827</td>\n",
       "    </tr>\n",
       "  </tbody>\n",
       "</table>\n",
       "</div>"
      ],
      "text/plain": [
       "     features_name  feature_log_prob_bots  feature_prob_bots\n",
       "6       cat_tweets              -1.233993           0.291128\n",
       "4      cat_friends              -1.403794           0.245663\n",
       "5        cat_likes              -1.541591           0.214040\n",
       "3    cat_followers              -1.657409           0.190632\n",
       "2  has_description              -2.903580           0.054827"
      ]
     },
     "execution_count": 122,
     "metadata": {},
     "output_type": "execute_result"
    }
   ],
   "source": [
    "df_best_subset = get_feature_importance(subset_features, best_estimator_subset)\n",
    "df_best_subset.head()"
   ]
  },
  {
   "cell_type": "code",
   "execution_count": 123,
   "metadata": {},
   "outputs": [
    {
     "data": {
      "text/plain": [
       "Text(0.5, 1.0, \"Feature Importance of Naive Bayes Model: Probability of the Feature Given Class = 'bot' (Subset Features)\")"
      ]
     },
     "execution_count": 123,
     "metadata": {},
     "output_type": "execute_result"
    },
    {
     "data": {
      "image/png": "[encoded data removed]",
      "text/plain": [
       "<Figure size 864x360 with 1 Axes>"
      ]
     },
     "metadata": {},
     "output_type": "display_data"
    }
   ],
   "source": [
    "# Visualize Feature Importance\n",
    "plt.figure(figsize=(12,5))\n",
    "ax = sns.barplot(x=\"features_name\", y=\"feature_prob_bots\", data=df_best_subset,palette=\"Blues_d\")\n",
    "ax.set_title(\"Feature Importance of Naive Bayes Model: Probability of the Feature Given Class = 'bot' (Subset Features)\")"
   ]
  },
  {
   "cell_type": "markdown",
   "metadata": {},
   "source": [
    "### 5. Apply the Model on the COVID dataset"
   ]
  },
  {
   "cell_type": "markdown",
   "metadata": {},
   "source": [
    "#### 1) Read and Clean the COVID dataset"
   ]
  },
  {
   "cell_type": "code",
   "execution_count": 116,
   "metadata": {},
   "outputs": [
    {
     "data": {
      "text/html": [
       "<div>\n",
       "<style scoped>\n",
       "    .dataframe tbody tr th:only-of-type {\n",
       "        vertical-align: middle;\n",
       "    }\n",
       "\n",
       "    .dataframe tbody tr th {\n",
       "        vertical-align: top;\n",
       "    }\n",
       "\n",
       "    .dataframe thead th {\n",
       "        text-align: right;\n",
       "    }\n",
       "</style>\n",
       "<table border=\"1\" class=\"dataframe\">\n",
       "  <thead>\n",
       "    <tr style=\"text-align: right;\">\n",
       "      <th></th>\n",
       "      <th>followers</th>\n",
       "      <th>friends</th>\n",
       "      <th>geo_enabled</th>\n",
       "      <th>tweets</th>\n",
       "      <th>likes</th>\n",
       "      <th>verified</th>\n",
       "      <th>has_description</th>\n",
       "    </tr>\n",
       "  </thead>\n",
       "  <tbody>\n",
       "    <tr>\n",
       "      <th>0</th>\n",
       "      <td>4955553.0</td>\n",
       "      <td>771.0</td>\n",
       "      <td>1</td>\n",
       "      <td>719761.0</td>\n",
       "      <td>5444.0</td>\n",
       "      <td>1.0</td>\n",
       "      <td>1</td>\n",
       "    </tr>\n",
       "    <tr>\n",
       "      <th>1</th>\n",
       "      <td>16092.0</td>\n",
       "      <td>1.0</td>\n",
       "      <td>0</td>\n",
       "      <td>7794.0</td>\n",
       "      <td>10.0</td>\n",
       "      <td>0.0</td>\n",
       "      <td>1</td>\n",
       "    </tr>\n",
       "    <tr>\n",
       "      <th>2</th>\n",
       "      <td>9187.0</td>\n",
       "      <td>983.0</td>\n",
       "      <td>1</td>\n",
       "      <td>97617.0</td>\n",
       "      <td>165.0</td>\n",
       "      <td>1.0</td>\n",
       "      <td>1</td>\n",
       "    </tr>\n",
       "    <tr>\n",
       "      <th>3</th>\n",
       "      <td>19848.0</td>\n",
       "      <td>2522.0</td>\n",
       "      <td>0</td>\n",
       "      <td>52947.0</td>\n",
       "      <td>19054.0</td>\n",
       "      <td>1.0</td>\n",
       "      <td>1</td>\n",
       "    </tr>\n",
       "    <tr>\n",
       "      <th>4</th>\n",
       "      <td>12321.0</td>\n",
       "      <td>965.0</td>\n",
       "      <td>1</td>\n",
       "      <td>7580.0</td>\n",
       "      <td>2672.0</td>\n",
       "      <td>0.0</td>\n",
       "      <td>1</td>\n",
       "    </tr>\n",
       "  </tbody>\n",
       "</table>\n",
       "</div>"
      ],
      "text/plain": [
       "   followers  friends  geo_enabled    tweets    likes  verified  \\\n",
       "0  4955553.0    771.0            1  719761.0   5444.0       1.0   \n",
       "1    16092.0      1.0            0    7794.0     10.0       0.0   \n",
       "2     9187.0    983.0            1   97617.0    165.0       1.0   \n",
       "3    19848.0   2522.0            0   52947.0  19054.0       1.0   \n",
       "4    12321.0    965.0            1    7580.0   2672.0       0.0   \n",
       "\n",
       "   has_description  \n",
       "0                1  \n",
       "1                1  \n",
       "2                1  \n",
       "3                1  \n",
       "4                1  "
      ]
     },
     "execution_count": 116,
     "metadata": {},
     "output_type": "execute_result"
    }
   ],
   "source": [
    "covid_df = pd.read_csv(\"../Data-Cleaning/COVID_tweet.csv\")\n",
    "covid_df.head()"
   ]
  },
  {
   "cell_type": "code",
   "execution_count": 136,
   "metadata": {},
   "outputs": [
    {
     "data": {
      "text/html": [
       "<div>\n",
       "<style scoped>\n",
       "    .dataframe tbody tr th:only-of-type {\n",
       "        vertical-align: middle;\n",
       "    }\n",
       "\n",
       "    .dataframe tbody tr th {\n",
       "        vertical-align: top;\n",
       "    }\n",
       "\n",
       "    .dataframe thead th {\n",
       "        text-align: right;\n",
       "    }\n",
       "</style>\n",
       "<table border=\"1\" class=\"dataframe\">\n",
       "  <thead>\n",
       "    <tr style=\"text-align: right;\">\n",
       "      <th></th>\n",
       "      <th>followers</th>\n",
       "      <th>friends</th>\n",
       "      <th>geo_enabled</th>\n",
       "      <th>tweets</th>\n",
       "      <th>likes</th>\n",
       "      <th>verified</th>\n",
       "      <th>has_description</th>\n",
       "      <th>cat_followers</th>\n",
       "      <th>cat_friends</th>\n",
       "      <th>cat_tweets</th>\n",
       "      <th>cat_likes</th>\n",
       "    </tr>\n",
       "  </thead>\n",
       "  <tbody>\n",
       "    <tr>\n",
       "      <th>0</th>\n",
       "      <td>4955553.0</td>\n",
       "      <td>771.0</td>\n",
       "      <td>1</td>\n",
       "      <td>719761.0</td>\n",
       "      <td>5444.0</td>\n",
       "      <td>1.0</td>\n",
       "      <td>1</td>\n",
       "      <td>5</td>\n",
       "      <td>3</td>\n",
       "      <td>5</td>\n",
       "      <td>4</td>\n",
       "    </tr>\n",
       "    <tr>\n",
       "      <th>1</th>\n",
       "      <td>16092.0</td>\n",
       "      <td>1.0</td>\n",
       "      <td>0</td>\n",
       "      <td>7794.0</td>\n",
       "      <td>10.0</td>\n",
       "      <td>0.0</td>\n",
       "      <td>1</td>\n",
       "      <td>5</td>\n",
       "      <td>1</td>\n",
       "      <td>4</td>\n",
       "      <td>1</td>\n",
       "    </tr>\n",
       "    <tr>\n",
       "      <th>2</th>\n",
       "      <td>9187.0</td>\n",
       "      <td>983.0</td>\n",
       "      <td>1</td>\n",
       "      <td>97617.0</td>\n",
       "      <td>165.0</td>\n",
       "      <td>1.0</td>\n",
       "      <td>1</td>\n",
       "      <td>4</td>\n",
       "      <td>3</td>\n",
       "      <td>5</td>\n",
       "      <td>3</td>\n",
       "    </tr>\n",
       "    <tr>\n",
       "      <th>3</th>\n",
       "      <td>19848.0</td>\n",
       "      <td>2522.0</td>\n",
       "      <td>0</td>\n",
       "      <td>52947.0</td>\n",
       "      <td>19054.0</td>\n",
       "      <td>1.0</td>\n",
       "      <td>1</td>\n",
       "      <td>5</td>\n",
       "      <td>4</td>\n",
       "      <td>5</td>\n",
       "      <td>5</td>\n",
       "    </tr>\n",
       "    <tr>\n",
       "      <th>4</th>\n",
       "      <td>12321.0</td>\n",
       "      <td>965.0</td>\n",
       "      <td>1</td>\n",
       "      <td>7580.0</td>\n",
       "      <td>2672.0</td>\n",
       "      <td>0.0</td>\n",
       "      <td>1</td>\n",
       "      <td>5</td>\n",
       "      <td>3</td>\n",
       "      <td>4</td>\n",
       "      <td>4</td>\n",
       "    </tr>\n",
       "  </tbody>\n",
       "</table>\n",
       "</div>"
      ],
      "text/plain": [
       "   followers  friends  geo_enabled    tweets    likes  verified  \\\n",
       "0  4955553.0    771.0            1  719761.0   5444.0       1.0   \n",
       "1    16092.0      1.0            0    7794.0     10.0       0.0   \n",
       "2     9187.0    983.0            1   97617.0    165.0       1.0   \n",
       "3    19848.0   2522.0            0   52947.0  19054.0       1.0   \n",
       "4    12321.0    965.0            1    7580.0   2672.0       0.0   \n",
       "\n",
       "   has_description cat_followers cat_friends cat_tweets cat_likes  \n",
       "0                1             5           3          5         4  \n",
       "1                1             5           1          4         1  \n",
       "2                1             4           3          5         3  \n",
       "3                1             5           4          5         5  \n",
       "4                1             5           3          4         4  "
      ]
     },
     "execution_count": 136,
     "metadata": {},
     "output_type": "execute_result"
    }
   ],
   "source": [
    "# Transform Continuous Variables into Categorical Variables\n",
    "continuous_var_subset = [\"followers\",\"friends\",\"tweets\",\"likes\"]\n",
    "covid_df = transform_cont(continuous_var_subset, df = covid_df)\n",
    "covid_df.head()"
   ]
  },
  {
   "cell_type": "code",
   "execution_count": 140,
   "metadata": {
    "scrolled": true
   },
   "outputs": [
    {
     "data": {
      "text/html": [
       "<div>\n",
       "<style scoped>\n",
       "    .dataframe tbody tr th:only-of-type {\n",
       "        vertical-align: middle;\n",
       "    }\n",
       "\n",
       "    .dataframe tbody tr th {\n",
       "        vertical-align: top;\n",
       "    }\n",
       "\n",
       "    .dataframe thead th {\n",
       "        text-align: right;\n",
       "    }\n",
       "</style>\n",
       "<table border=\"1\" class=\"dataframe\">\n",
       "  <thead>\n",
       "    <tr style=\"text-align: right;\">\n",
       "      <th></th>\n",
       "      <th>verified</th>\n",
       "      <th>geo_enabled</th>\n",
       "      <th>has_description</th>\n",
       "      <th>cat_followers</th>\n",
       "      <th>cat_friends</th>\n",
       "      <th>cat_likes</th>\n",
       "      <th>cat_tweets</th>\n",
       "    </tr>\n",
       "  </thead>\n",
       "  <tbody>\n",
       "    <tr>\n",
       "      <th>0</th>\n",
       "      <td>1.0</td>\n",
       "      <td>1</td>\n",
       "      <td>1</td>\n",
       "      <td>5</td>\n",
       "      <td>3</td>\n",
       "      <td>4</td>\n",
       "      <td>5</td>\n",
       "    </tr>\n",
       "    <tr>\n",
       "      <th>1</th>\n",
       "      <td>0.0</td>\n",
       "      <td>0</td>\n",
       "      <td>1</td>\n",
       "      <td>5</td>\n",
       "      <td>1</td>\n",
       "      <td>1</td>\n",
       "      <td>4</td>\n",
       "    </tr>\n",
       "    <tr>\n",
       "      <th>2</th>\n",
       "      <td>1.0</td>\n",
       "      <td>1</td>\n",
       "      <td>1</td>\n",
       "      <td>4</td>\n",
       "      <td>3</td>\n",
       "      <td>3</td>\n",
       "      <td>5</td>\n",
       "    </tr>\n",
       "    <tr>\n",
       "      <th>3</th>\n",
       "      <td>1.0</td>\n",
       "      <td>0</td>\n",
       "      <td>1</td>\n",
       "      <td>5</td>\n",
       "      <td>4</td>\n",
       "      <td>5</td>\n",
       "      <td>5</td>\n",
       "    </tr>\n",
       "    <tr>\n",
       "      <th>4</th>\n",
       "      <td>0.0</td>\n",
       "      <td>1</td>\n",
       "      <td>1</td>\n",
       "      <td>5</td>\n",
       "      <td>3</td>\n",
       "      <td>4</td>\n",
       "      <td>4</td>\n",
       "    </tr>\n",
       "  </tbody>\n",
       "</table>\n",
       "</div>"
      ],
      "text/plain": [
       "   verified  geo_enabled  has_description cat_followers cat_friends cat_likes  \\\n",
       "0       1.0            1                1             5           3         4   \n",
       "1       0.0            0                1             5           1         1   \n",
       "2       1.0            1                1             4           3         3   \n",
       "3       1.0            0                1             5           4         5   \n",
       "4       0.0            1                1             5           3         4   \n",
       "\n",
       "  cat_tweets  \n",
       "0          5  \n",
       "1          4  \n",
       "2          5  \n",
       "3          5  \n",
       "4          4  "
      ]
     },
     "execution_count": 140,
     "metadata": {},
     "output_type": "execute_result"
    }
   ],
   "source": [
    "# Get rid of unnecessary columns\n",
    "covid_features = covid_df[[ 'verified', 'geo_enabled', 'has_description', 'cat_followers', \n",
    "                  'cat_friends', 'cat_likes', 'cat_tweets']]\n",
    "covid_features.head()"
   ]
  },
  {
   "cell_type": "markdown",
   "metadata": {},
   "source": [
    "#### 2) Apply the best model from 3.2 (Modeling with Subset Features) to the Covid dataset"
   ]
  },
  {
   "cell_type": "code",
   "execution_count": 144,
   "metadata": {},
   "outputs": [
    {
     "name": "stdout",
     "output_type": "stream",
     "text": [
      "[0 1 0 ... 0 1 0]\n"
     ]
    }
   ],
   "source": [
    "covid_pred = best_estimator_subset.predict(covid_features)"
   ]
  },
  {
   "cell_type": "code",
   "execution_count": 150,
   "metadata": {},
   "outputs": [],
   "source": [
    "covid_df[\"nb_bot\"] = covid_pred.reshape(-1)\n",
    "output = covid_df[[\"followers\",\"friends\",\"tweets\",\"likes\",\"geo_enabled\",\"verified\",\"has_description\",\"nb_bot\"]]\n",
    "df.to_csv(\"nb_predicted.csv\", index = False)"
   ]
  },
  {
   "cell_type": "code",
   "execution_count": null,
   "metadata": {},
   "outputs": [],
   "source": []
  }
 ],
 "metadata": {
  "kernelspec": {
   "display_name": "Python [conda env:geoenvnew]",
   "language": "python",
   "name": "conda-env-geoenvnew-py"
  },
  "language_info": {
   "codemirror_mode": {
    "name": "ipython",
    "version": 3
   },
   "file_extension": ".py",
   "mimetype": "text/x-python",
   "name": "python",
   "nbconvert_exporter": "python",
   "pygments_lexer": "ipython3",
   "version": "3.6.10"
  }
 },
 "nbformat": 4,
 "nbformat_minor": 4
}
