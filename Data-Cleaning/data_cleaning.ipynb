{
 "cells": [
  {
   "cell_type": "markdown",
   "metadata": {},
   "source": [
    "# Data Cleaning\n",
    "We have two dataset:\n",
    "* One to train our models (see data consolidation) called 'verified', this dataset compiles different sources of labeled tweets account as human or bot.\n",
    "* Other dataset to test our models, this dataset has tweets account that posted information about COVID. This dataset will be called COVID.\n",
    "\n",
    "On this notebook we will clean the data and get a final version of this datasets."
   ]
  },
  {
   "cell_type": "code",
   "execution_count": 1,
   "metadata": {},
   "outputs": [],
   "source": [
    "#Import basic libraries\n",
    "import pandas as pd\n",
    "import numpy as np\n",
    "import warnings\n",
    "\n",
    "warnings.filterwarnings('ignore')"
   ]
  },
  {
   "cell_type": "markdown",
   "metadata": {},
   "source": [
    "# \"Verified\" Dataset cleaning\n",
    "We will explore all the columns of this dataset and after all the cleaning process we wil hace a new cvs file."
   ]
  },
  {
   "cell_type": "code",
   "execution_count": 2,
   "metadata": {},
   "outputs": [],
   "source": [
    "#Read the complete dataset\n",
    "df = pd.read_csv(\"C:/Users/Maca/Documents/project_ml/Project-Machine-Learning-CAPP/data_consolidation/consolidated_version2.csv\")"
   ]
  },
  {
   "cell_type": "code",
   "execution_count": 3,
   "metadata": {},
   "outputs": [
    {
     "data": {
      "text/html": [
       "<div>\n",
       "<style scoped>\n",
       "    .dataframe tbody tr th:only-of-type {\n",
       "        vertical-align: middle;\n",
       "    }\n",
       "\n",
       "    .dataframe tbody tr th {\n",
       "        vertical-align: top;\n",
       "    }\n",
       "\n",
       "    .dataframe thead th {\n",
       "        text-align: right;\n",
       "    }\n",
       "</style>\n",
       "<table border=\"1\" class=\"dataframe\">\n",
       "  <thead>\n",
       "    <tr style=\"text-align: right;\">\n",
       "      <th></th>\n",
       "      <th>Unnamed: 0</th>\n",
       "      <th>id</th>\n",
       "      <th>bot</th>\n",
       "      <th>description</th>\n",
       "      <th>probe_timestamp</th>\n",
       "      <th>created_at</th>\n",
       "      <th>lang</th>\n",
       "      <th>protected</th>\n",
       "      <th>verified</th>\n",
       "      <th>geo_enabled</th>\n",
       "      <th>default_profile</th>\n",
       "      <th>followers_count</th>\n",
       "      <th>friends_count</th>\n",
       "      <th>listed_count</th>\n",
       "      <th>favourites_count</th>\n",
       "      <th>statuses_count</th>\n",
       "      <th>source</th>\n",
       "    </tr>\n",
       "  </thead>\n",
       "  <tbody>\n",
       "    <tr>\n",
       "      <th>0</th>\n",
       "      <td>0</td>\n",
       "      <td>3039154799</td>\n",
       "      <td>human</td>\n",
       "      <td>••TEEN WOLF//SKAM//SHAMELESS••Il mio livello d...</td>\n",
       "      <td>Thu May 16 13:57:12 +0000 2019</td>\n",
       "      <td>Sun Feb 15 14:56:36 +0000 2015</td>\n",
       "      <td>it</td>\n",
       "      <td>False</td>\n",
       "      <td>0.0</td>\n",
       "      <td>0.0</td>\n",
       "      <td>1.0</td>\n",
       "      <td>163</td>\n",
       "      <td>407</td>\n",
       "      <td>0</td>\n",
       "      <td>4193</td>\n",
       "      <td>5761</td>\n",
       "      <td>cresci-rtbust-2019</td>\n",
       "    </tr>\n",
       "    <tr>\n",
       "      <th>1</th>\n",
       "      <td>1</td>\n",
       "      <td>390617262</td>\n",
       "      <td>bot</td>\n",
       "      <td>NaN</td>\n",
       "      <td>Tue Apr 16 13:51:17 +0000 2019</td>\n",
       "      <td>Fri Oct 14 08:00:55 +0000 2011</td>\n",
       "      <td>it</td>\n",
       "      <td>False</td>\n",
       "      <td>0.0</td>\n",
       "      <td>0.0</td>\n",
       "      <td>1.0</td>\n",
       "      <td>289</td>\n",
       "      <td>401</td>\n",
       "      <td>1</td>\n",
       "      <td>213</td>\n",
       "      <td>3210</td>\n",
       "      <td>cresci-rtbust-2019</td>\n",
       "    </tr>\n",
       "  </tbody>\n",
       "</table>\n",
       "</div>"
      ],
      "text/plain": [
       "   Unnamed: 0          id    bot  \\\n",
       "0           0  3039154799  human   \n",
       "1           1   390617262    bot   \n",
       "\n",
       "                                         description  \\\n",
       "0  ••TEEN WOLF//SKAM//SHAMELESS••Il mio livello d...   \n",
       "1                                                NaN   \n",
       "\n",
       "                  probe_timestamp                      created_at lang  \\\n",
       "0  Thu May 16 13:57:12 +0000 2019  Sun Feb 15 14:56:36 +0000 2015   it   \n",
       "1  Tue Apr 16 13:51:17 +0000 2019  Fri Oct 14 08:00:55 +0000 2011   it   \n",
       "\n",
       "  protected  verified  geo_enabled  default_profile  followers_count  \\\n",
       "0     False       0.0          0.0              1.0              163   \n",
       "1     False       0.0          0.0              1.0              289   \n",
       "\n",
       "   friends_count  listed_count  favourites_count  statuses_count  \\\n",
       "0            407             0              4193            5761   \n",
       "1            401             1               213            3210   \n",
       "\n",
       "               source  \n",
       "0  cresci-rtbust-2019  \n",
       "1  cresci-rtbust-2019  "
      ]
     },
     "execution_count": 3,
     "metadata": {},
     "output_type": "execute_result"
    }
   ],
   "source": [
    "#print some rows to see the data\n",
    "df.head(2)"
   ]
  },
  {
   "cell_type": "code",
   "execution_count": 4,
   "metadata": {},
   "outputs": [
    {
     "data": {
      "text/plain": [
       "Index(['Unnamed: 0', 'id', 'bot', 'description', 'probe_timestamp',\n",
       "       'created_at', 'lang', 'protected', 'verified', 'geo_enabled',\n",
       "       'default_profile', 'followers_count', 'friends_count', 'listed_count',\n",
       "       'favourites_count', 'statuses_count', 'source'],\n",
       "      dtype='object')"
      ]
     },
     "execution_count": 4,
     "metadata": {},
     "output_type": "execute_result"
    }
   ],
   "source": [
    "#Columns of the dataset\n",
    "df.columns"
   ]
  },
  {
   "cell_type": "code",
   "execution_count": 5,
   "metadata": {},
   "outputs": [
    {
     "data": {
      "text/html": [
       "<div>\n",
       "<style scoped>\n",
       "    .dataframe tbody tr th:only-of-type {\n",
       "        vertical-align: middle;\n",
       "    }\n",
       "\n",
       "    .dataframe tbody tr th {\n",
       "        vertical-align: top;\n",
       "    }\n",
       "\n",
       "    .dataframe thead th {\n",
       "        text-align: right;\n",
       "    }\n",
       "</style>\n",
       "<table border=\"1\" class=\"dataframe\">\n",
       "  <thead>\n",
       "    <tr style=\"text-align: right;\">\n",
       "      <th></th>\n",
       "      <th>Unnamed: 0</th>\n",
       "      <th>id</th>\n",
       "      <th>verified</th>\n",
       "      <th>geo_enabled</th>\n",
       "      <th>default_profile</th>\n",
       "      <th>followers_count</th>\n",
       "      <th>friends_count</th>\n",
       "      <th>listed_count</th>\n",
       "      <th>favourites_count</th>\n",
       "      <th>statuses_count</th>\n",
       "    </tr>\n",
       "  </thead>\n",
       "  <tbody>\n",
       "    <tr>\n",
       "      <th>count</th>\n",
       "      <td>63264.000000</td>\n",
       "      <td>6.326400e+04</td>\n",
       "      <td>55721.000000</td>\n",
       "      <td>56860.000000</td>\n",
       "      <td>56166.000000</td>\n",
       "      <td>6.326400e+04</td>\n",
       "      <td>6.326400e+04</td>\n",
       "      <td>63264.000000</td>\n",
       "      <td>63264.000000</td>\n",
       "      <td>6.326400e+04</td>\n",
       "    </tr>\n",
       "    <tr>\n",
       "      <th>mean</th>\n",
       "      <td>20393.214356</td>\n",
       "      <td>7.179809e+17</td>\n",
       "      <td>0.057267</td>\n",
       "      <td>0.155575</td>\n",
       "      <td>0.816704</td>\n",
       "      <td>5.140114e+04</td>\n",
       "      <td>1.220452e+03</td>\n",
       "      <td>160.520407</td>\n",
       "      <td>3030.690709</td>\n",
       "      <td>6.684949e+03</td>\n",
       "    </tr>\n",
       "    <tr>\n",
       "      <th>std</th>\n",
       "      <td>16265.554666</td>\n",
       "      <td>4.805380e+17</td>\n",
       "      <td>0.232355</td>\n",
       "      <td>0.362455</td>\n",
       "      <td>0.386912</td>\n",
       "      <td>1.389009e+06</td>\n",
       "      <td>1.995991e+04</td>\n",
       "      <td>3696.298209</td>\n",
       "      <td>15509.481248</td>\n",
       "      <td>3.938906e+04</td>\n",
       "    </tr>\n",
       "    <tr>\n",
       "      <th>min</th>\n",
       "      <td>0.000000</td>\n",
       "      <td>5.860000e+02</td>\n",
       "      <td>0.000000</td>\n",
       "      <td>0.000000</td>\n",
       "      <td>0.000000</td>\n",
       "      <td>0.000000e+00</td>\n",
       "      <td>0.000000e+00</td>\n",
       "      <td>0.000000</td>\n",
       "      <td>0.000000</td>\n",
       "      <td>0.000000e+00</td>\n",
       "    </tr>\n",
       "    <tr>\n",
       "      <th>25%</th>\n",
       "      <td>3273.000000</td>\n",
       "      <td>2.369773e+09</td>\n",
       "      <td>0.000000</td>\n",
       "      <td>0.000000</td>\n",
       "      <td>1.000000</td>\n",
       "      <td>0.000000e+00</td>\n",
       "      <td>0.000000e+00</td>\n",
       "      <td>0.000000</td>\n",
       "      <td>0.000000</td>\n",
       "      <td>1.100000e+01</td>\n",
       "    </tr>\n",
       "    <tr>\n",
       "      <th>50%</th>\n",
       "      <td>18905.500000</td>\n",
       "      <td>1.050035e+18</td>\n",
       "      <td>0.000000</td>\n",
       "      <td>0.000000</td>\n",
       "      <td>1.000000</td>\n",
       "      <td>2.000000e+00</td>\n",
       "      <td>3.600000e+01</td>\n",
       "      <td>0.000000</td>\n",
       "      <td>0.000000</td>\n",
       "      <td>4.500000e+01</td>\n",
       "    </tr>\n",
       "    <tr>\n",
       "      <th>75%</th>\n",
       "      <td>34721.250000</td>\n",
       "      <td>1.056234e+18</td>\n",
       "      <td>0.000000</td>\n",
       "      <td>0.000000</td>\n",
       "      <td>1.000000</td>\n",
       "      <td>1.000000e+02</td>\n",
       "      <td>2.672500e+02</td>\n",
       "      <td>1.000000</td>\n",
       "      <td>125.000000</td>\n",
       "      <td>3.182500e+02</td>\n",
       "    </tr>\n",
       "    <tr>\n",
       "      <th>max</th>\n",
       "      <td>50537.000000</td>\n",
       "      <td>1.079456e+18</td>\n",
       "      <td>1.000000</td>\n",
       "      <td>1.000000</td>\n",
       "      <td>1.000000</td>\n",
       "      <td>1.069380e+08</td>\n",
       "      <td>2.141379e+06</td>\n",
       "      <td>606500.000000</td>\n",
       "      <td>886115.000000</td>\n",
       "      <td>2.766520e+06</td>\n",
       "    </tr>\n",
       "  </tbody>\n",
       "</table>\n",
       "</div>"
      ],
      "text/plain": [
       "         Unnamed: 0            id      verified   geo_enabled  \\\n",
       "count  63264.000000  6.326400e+04  55721.000000  56860.000000   \n",
       "mean   20393.214356  7.179809e+17      0.057267      0.155575   \n",
       "std    16265.554666  4.805380e+17      0.232355      0.362455   \n",
       "min        0.000000  5.860000e+02      0.000000      0.000000   \n",
       "25%     3273.000000  2.369773e+09      0.000000      0.000000   \n",
       "50%    18905.500000  1.050035e+18      0.000000      0.000000   \n",
       "75%    34721.250000  1.056234e+18      0.000000      0.000000   \n",
       "max    50537.000000  1.079456e+18      1.000000      1.000000   \n",
       "\n",
       "       default_profile  followers_count  friends_count   listed_count  \\\n",
       "count     56166.000000     6.326400e+04   6.326400e+04   63264.000000   \n",
       "mean          0.816704     5.140114e+04   1.220452e+03     160.520407   \n",
       "std           0.386912     1.389009e+06   1.995991e+04    3696.298209   \n",
       "min           0.000000     0.000000e+00   0.000000e+00       0.000000   \n",
       "25%           1.000000     0.000000e+00   0.000000e+00       0.000000   \n",
       "50%           1.000000     2.000000e+00   3.600000e+01       0.000000   \n",
       "75%           1.000000     1.000000e+02   2.672500e+02       1.000000   \n",
       "max           1.000000     1.069380e+08   2.141379e+06  606500.000000   \n",
       "\n",
       "       favourites_count  statuses_count  \n",
       "count      63264.000000    6.326400e+04  \n",
       "mean        3030.690709    6.684949e+03  \n",
       "std        15509.481248    3.938906e+04  \n",
       "min            0.000000    0.000000e+00  \n",
       "25%            0.000000    1.100000e+01  \n",
       "50%            0.000000    4.500000e+01  \n",
       "75%          125.000000    3.182500e+02  \n",
       "max       886115.000000    2.766520e+06  "
      ]
     },
     "execution_count": 5,
     "metadata": {},
     "output_type": "execute_result"
    }
   ],
   "source": [
    "#Get some stats about the columns\n",
    "df.describe()"
   ]
  },
  {
   "cell_type": "code",
   "execution_count": 6,
   "metadata": {},
   "outputs": [
    {
     "name": "stdout",
     "output_type": "stream",
     "text": [
      "Found 0 NaN Unnamed: 0 records.\n",
      "Found 0 NaN id records.\n",
      "Found 7543 NaN bot records.\n",
      "Found 32995 NaN description records.\n",
      "Found 0 NaN probe_timestamp records.\n",
      "Found 0 NaN created_at records.\n",
      "Found 2987 NaN lang records.\n",
      "Found 11086 NaN protected records.\n",
      "Found 7543 NaN verified records.\n",
      "Found 6404 NaN geo_enabled records.\n",
      "Found 7098 NaN default_profile records.\n",
      "Found 0 NaN followers_count records.\n",
      "Found 0 NaN friends_count records.\n",
      "Found 0 NaN listed_count records.\n",
      "Found 0 NaN favourites_count records.\n",
      "Found 0 NaN statuses_count records.\n",
      "Found 0 NaN source records.\n"
     ]
    }
   ],
   "source": [
    "#Found the NaN values for each column\n",
    "for i in df.columns:\n",
    "    print(\"Found {} NaN {} records.\".format(df[i].isna().sum(), i))"
   ]
  },
  {
   "cell_type": "code",
   "execution_count": 7,
   "metadata": {},
   "outputs": [],
   "source": [
    "#Our target value is column 'bot', we dropped all the NaN bot column\n",
    "df = df.dropna(subset=['bot'])"
   ]
  },
  {
   "cell_type": "markdown",
   "metadata": {},
   "source": [
    "## Target - Bot column\n",
    "Column bot is our target column.\n",
    "For that reason we need to transfrom into a dummy column. If 'bot' column has the value bot we will assign a number 1 and 0 otherwise (value human)."
   ]
  },
  {
   "cell_type": "code",
   "execution_count": 8,
   "metadata": {},
   "outputs": [],
   "source": [
    "#Transform bot column into dummy\n",
    "df['bot'] = df.loc[:, 'bot'].apply(lambda x: 0 if x == 'human' else 1)"
   ]
  },
  {
   "cell_type": "markdown",
   "metadata": {},
   "source": [
    "## Lenguage Description Column\n",
    "Column lenguage is one of our categorical features. If the lenguage of the tweeter account is english we will assign a number 1 and 0 otherwise."
   ]
  },
  {
   "cell_type": "code",
   "execution_count": 9,
   "metadata": {},
   "outputs": [],
   "source": [
    "#if no lenguage is English then attribute is 0, 1 otherwise\n",
    "df['len_en'] = df.loc[:, 'lang'].apply(lambda x: 1 if x == 'en' else 0)\n",
    "df = df.drop(['lang'], axis=1)"
   ]
  },
  {
   "cell_type": "markdown",
   "metadata": {},
   "source": [
    "## Bio Description Column\n",
    "Column description is one of our categorical features. If the bio has a description on the tweeter account we will assign a number 1 and 0 otherwise."
   ]
  },
  {
   "cell_type": "code",
   "execution_count": 10,
   "metadata": {},
   "outputs": [],
   "source": [
    "#Fill NaN description, if no descrption is 0 otherwise 1\n",
    "df['description'] = df.description.fillna(0)\n",
    "df['has_description'] = df.loc[:, 'description'].apply(lambda x: 0 if x == 0 else 1)\n",
    "df = df.drop(['description'], axis=1)"
   ]
  },
  {
   "cell_type": "markdown",
   "metadata": {},
   "source": [
    "## Finally select only the features for the model"
   ]
  },
  {
   "cell_type": "code",
   "execution_count": 11,
   "metadata": {},
   "outputs": [],
   "source": [
    "#Model only with to features that we need\n",
    "verified= df[['bot', 'verified', 'geo_enabled', 'default_profile', 'has_description', 'len_en', 'followers_count', \n",
    "                  'friends_count', 'listed_count', 'favourites_count', 'statuses_count']]\n",
    "columns = {'followers_count':'followers','friends_count': 'friends', 'favourites_count': 'likes', 'statuses_count': 'tweets'}\n",
    "verified = verified.rename(columns=columns)"
   ]
  },
  {
   "cell_type": "code",
   "execution_count": 12,
   "metadata": {},
   "outputs": [
    {
     "data": {
      "text/html": [
       "<div>\n",
       "<style scoped>\n",
       "    .dataframe tbody tr th:only-of-type {\n",
       "        vertical-align: middle;\n",
       "    }\n",
       "\n",
       "    .dataframe tbody tr th {\n",
       "        vertical-align: top;\n",
       "    }\n",
       "\n",
       "    .dataframe thead th {\n",
       "        text-align: right;\n",
       "    }\n",
       "</style>\n",
       "<table border=\"1\" class=\"dataframe\">\n",
       "  <thead>\n",
       "    <tr style=\"text-align: right;\">\n",
       "      <th></th>\n",
       "      <th>bot</th>\n",
       "      <th>verified</th>\n",
       "      <th>geo_enabled</th>\n",
       "      <th>default_profile</th>\n",
       "      <th>has_description</th>\n",
       "      <th>len_en</th>\n",
       "      <th>followers</th>\n",
       "      <th>friends</th>\n",
       "      <th>listed_count</th>\n",
       "      <th>likes</th>\n",
       "      <th>tweets</th>\n",
       "    </tr>\n",
       "  </thead>\n",
       "  <tbody>\n",
       "    <tr>\n",
       "      <th>0</th>\n",
       "      <td>0</td>\n",
       "      <td>0.0</td>\n",
       "      <td>0.0</td>\n",
       "      <td>1.0</td>\n",
       "      <td>1</td>\n",
       "      <td>0</td>\n",
       "      <td>163</td>\n",
       "      <td>407</td>\n",
       "      <td>0</td>\n",
       "      <td>4193</td>\n",
       "      <td>5761</td>\n",
       "    </tr>\n",
       "    <tr>\n",
       "      <th>1</th>\n",
       "      <td>1</td>\n",
       "      <td>0.0</td>\n",
       "      <td>0.0</td>\n",
       "      <td>1.0</td>\n",
       "      <td>0</td>\n",
       "      <td>0</td>\n",
       "      <td>289</td>\n",
       "      <td>401</td>\n",
       "      <td>1</td>\n",
       "      <td>213</td>\n",
       "      <td>3210</td>\n",
       "    </tr>\n",
       "  </tbody>\n",
       "</table>\n",
       "</div>"
      ],
      "text/plain": [
       "   bot  verified  geo_enabled  default_profile  has_description  len_en  \\\n",
       "0    0       0.0          0.0              1.0                1       0   \n",
       "1    1       0.0          0.0              1.0                0       0   \n",
       "\n",
       "   followers  friends  listed_count  likes  tweets  \n",
       "0        163      407             0   4193    5761  \n",
       "1        289      401             1    213    3210  "
      ]
     },
     "execution_count": 12,
     "metadata": {},
     "output_type": "execute_result"
    }
   ],
   "source": [
    "verified.head(2)"
   ]
  },
  {
   "cell_type": "code",
   "execution_count": 13,
   "metadata": {},
   "outputs": [],
   "source": [
    "verified.to_csv(r'C:\\Users\\Maca\\Documents\\project_ml\\Project-Machine-Learning-CAPP\\Data-Cleaning\\verified.csv', index = False)"
   ]
  },
  {
   "cell_type": "markdown",
   "metadata": {},
   "source": [
    "# \"COVID\" Dataset cleaning\n",
    "We will explore all the columns of this dataset and after all the cleaning process we wil hace a new cvs file."
   ]
  },
  {
   "cell_type": "code",
   "execution_count": 14,
   "metadata": {},
   "outputs": [],
   "source": [
    "df2 = pd.read_csv(r'C:\\Users\\Maca\\Documents\\project_ml\\Project-Machine-Learning-CAPP\\covid_user_info.csv')"
   ]
  },
  {
   "cell_type": "code",
   "execution_count": 15,
   "metadata": {},
   "outputs": [
    {
     "data": {
      "text/html": [
       "<div>\n",
       "<style scoped>\n",
       "    .dataframe tbody tr th:only-of-type {\n",
       "        vertical-align: middle;\n",
       "    }\n",
       "\n",
       "    .dataframe tbody tr th {\n",
       "        vertical-align: top;\n",
       "    }\n",
       "\n",
       "    .dataframe thead th {\n",
       "        text-align: right;\n",
       "    }\n",
       "</style>\n",
       "<table border=\"1\" class=\"dataframe\">\n",
       "  <thead>\n",
       "    <tr style=\"text-align: right;\">\n",
       "      <th></th>\n",
       "      <th>Unnamed: 0</th>\n",
       "      <th>Unnamed: 0.1</th>\n",
       "      <th>avatar</th>\n",
       "      <th>background_image</th>\n",
       "      <th>bio</th>\n",
       "      <th>followers</th>\n",
       "      <th>following</th>\n",
       "      <th>user_id</th>\n",
       "      <th>join_date</th>\n",
       "      <th>join_datetime</th>\n",
       "      <th>...</th>\n",
       "      <th>likes</th>\n",
       "      <th>location</th>\n",
       "      <th>media</th>\n",
       "      <th>name</th>\n",
       "      <th>private</th>\n",
       "      <th>tweets</th>\n",
       "      <th>url</th>\n",
       "      <th>username</th>\n",
       "      <th>verified</th>\n",
       "      <th>retrieved_info</th>\n",
       "    </tr>\n",
       "  </thead>\n",
       "  <tbody>\n",
       "    <tr>\n",
       "      <th>0</th>\n",
       "      <td>0</td>\n",
       "      <td>0.0</td>\n",
       "      <td>https://pbs.twimg.com/profile_images/125764305...</td>\n",
       "      <td>https://pbs.twimg.com/profile_banners/44728980...</td>\n",
       "      <td>News updates &amp; breaking news from the Philippi...</td>\n",
       "      <td>4955553.0</td>\n",
       "      <td>771.0</td>\n",
       "      <td>4.472898e+07</td>\n",
       "      <td>4-Jun-09</td>\n",
       "      <td>6/4/2009 14:26</td>\n",
       "      <td>...</td>\n",
       "      <td>5444.0</td>\n",
       "      <td>Philippines</td>\n",
       "      <td>128000</td>\n",
       "      <td>ABS-CBN News Channel</td>\n",
       "      <td>0.0</td>\n",
       "      <td>719761.0</td>\n",
       "      <td>http://news.abs-cbn.com/anc</td>\n",
       "      <td>ANCALERTS</td>\n",
       "      <td>1.0</td>\n",
       "      <td>retrieved_info</td>\n",
       "    </tr>\n",
       "    <tr>\n",
       "      <th>1</th>\n",
       "      <td>1</td>\n",
       "      <td>1.0</td>\n",
       "      <td>https://pbs.twimg.com/profile_images/118518765...</td>\n",
       "      <td>https://pbs.twimg.com/profile_banners/11851227...</td>\n",
       "      <td>Turkey's own independent gazette</td>\n",
       "      <td>16092.0</td>\n",
       "      <td>1.0</td>\n",
       "      <td>1.190000e+18</td>\n",
       "      <td>18-Oct-19</td>\n",
       "      <td>10/18/2019 2:17</td>\n",
       "      <td>...</td>\n",
       "      <td>10.0</td>\n",
       "      <td>NaN</td>\n",
       "      <td>3448</td>\n",
       "      <td>Duvar English</td>\n",
       "      <td>0.0</td>\n",
       "      <td>7794.0</td>\n",
       "      <td>http://www.duvarenglish.com</td>\n",
       "      <td>DuvarEnglish</td>\n",
       "      <td>0.0</td>\n",
       "      <td>retrieved_info</td>\n",
       "    </tr>\n",
       "  </tbody>\n",
       "</table>\n",
       "<p>2 rows × 21 columns</p>\n",
       "</div>"
      ],
      "text/plain": [
       "  Unnamed: 0  Unnamed: 0.1                                             avatar  \\\n",
       "0          0           0.0  https://pbs.twimg.com/profile_images/125764305...   \n",
       "1          1           1.0  https://pbs.twimg.com/profile_images/118518765...   \n",
       "\n",
       "                                    background_image  \\\n",
       "0  https://pbs.twimg.com/profile_banners/44728980...   \n",
       "1  https://pbs.twimg.com/profile_banners/11851227...   \n",
       "\n",
       "                                                 bio  followers  following  \\\n",
       "0  News updates & breaking news from the Philippi...  4955553.0      771.0   \n",
       "1                   Turkey's own independent gazette    16092.0        1.0   \n",
       "\n",
       "        user_id  join_date    join_datetime  ...   likes     location   media  \\\n",
       "0  4.472898e+07   4-Jun-09   6/4/2009 14:26  ...  5444.0  Philippines  128000   \n",
       "1  1.190000e+18  18-Oct-19  10/18/2019 2:17  ...    10.0          NaN    3448   \n",
       "\n",
       "                   name private    tweets                          url  \\\n",
       "0  ABS-CBN News Channel     0.0  719761.0  http://news.abs-cbn.com/anc   \n",
       "1         Duvar English     0.0    7794.0  http://www.duvarenglish.com   \n",
       "\n",
       "       username verified  retrieved_info  \n",
       "0     ANCALERTS      1.0  retrieved_info  \n",
       "1  DuvarEnglish      0.0  retrieved_info  \n",
       "\n",
       "[2 rows x 21 columns]"
      ]
     },
     "execution_count": 15,
     "metadata": {},
     "output_type": "execute_result"
    }
   ],
   "source": [
    "df2.head(2)"
   ]
  },
  {
   "cell_type": "code",
   "execution_count": 16,
   "metadata": {},
   "outputs": [
    {
     "data": {
      "text/plain": [
       "Index(['Unnamed: 0', 'Unnamed: 0.1', 'avatar', 'background_image', 'bio',\n",
       "       'followers', 'following', 'user_id', 'join_date', 'join_datetime',\n",
       "       'join_time', 'likes', 'location', 'media', 'name', 'private', 'tweets',\n",
       "       'url', 'username', 'verified', 'retrieved_info'],\n",
       "      dtype='object')"
      ]
     },
     "execution_count": 16,
     "metadata": {},
     "output_type": "execute_result"
    }
   ],
   "source": [
    "df2.columns"
   ]
  },
  {
   "cell_type": "markdown",
   "metadata": {},
   "source": [
    "## Features and target of COVID dataset\n",
    "The idea behind this dataset is to test our trained model. This dataset doesn't contain the target column labeled as 'bot' or 'human' but it has almost all the features of our model."
   ]
  },
  {
   "cell_type": "code",
   "execution_count": 17,
   "metadata": {},
   "outputs": [],
   "source": [
    "covid_filtered = df2[['username', 'avatar','bio', 'followers', 'following', 'location', 'tweets','likes', 'verified']]\n",
    "columns2 = {'following': 'friends', 'location': 'geo_enabled'}\n",
    "covid_filtered = covid_filtered.rename(columns=columns2)"
   ]
  },
  {
   "cell_type": "code",
   "execution_count": 18,
   "metadata": {},
   "outputs": [
    {
     "name": "stdout",
     "output_type": "stream",
     "text": [
      "Found 26 NaN username records.\n",
      "Found 6 NaN avatar records.\n",
      "Found 1124 NaN bio records.\n",
      "Found 16 NaN followers records.\n",
      "Found 16 NaN friends records.\n",
      "Found 4620 NaN geo_enabled records.\n",
      "Found 26 NaN tweets records.\n",
      "Found 16 NaN likes records.\n",
      "Found 26 NaN verified records.\n"
     ]
    }
   ],
   "source": [
    "#Get the NaN values\n",
    "for i in covid_filtered.columns:\n",
    "    print(\"Found {} NaN {} records.\".format(covid_filtered[i].isna().sum(), i))"
   ]
  },
  {
   "cell_type": "markdown",
   "metadata": {},
   "source": [
    "### Bio Description Column\n",
    "Column description is one of our categorical features. If the bio has a description on the tweeter account we will assign a number 1 and 0 otherwise."
   ]
  },
  {
   "cell_type": "code",
   "execution_count": 19,
   "metadata": {},
   "outputs": [],
   "source": [
    "#Fill NaN description, if no descrption is 0 otherwise 1\n",
    "covid_filtered['bio'] = covid_filtered.bio.fillna(0)\n",
    "covid_filtered['has_description'] = covid_filtered.loc[:, 'bio'].apply(lambda x: 0 if x == 0 else 1)\n",
    "covid_filtered = covid_filtered.drop(['bio'], axis=1)"
   ]
  },
  {
   "cell_type": "markdown",
   "metadata": {},
   "source": [
    "### Geolocalization Description Column\n",
    "Column geolocalization is one of our categorical features. If the geolocalization is enabled we will assign a number 1 and 0 otherwise."
   ]
  },
  {
   "cell_type": "code",
   "execution_count": 20,
   "metadata": {},
   "outputs": [],
   "source": [
    "#Fill NaN geolocalization, if no geolocalization is 0 otherwise 1\n",
    "covid_filtered['geo_enabled'] = covid_filtered.geo_enabled.fillna(0)\n",
    "covid_filtered['geo_enabled'] = covid_filtered.loc[:, 'geo_enabled'].apply(lambda x: 0 if x == 0 else 1)"
   ]
  },
  {
   "cell_type": "markdown",
   "metadata": {},
   "source": [
    "### Categorical column: Verified records\n",
    "As we have 26 null values on the verified column, we will remove them from the dataset."
   ]
  },
  {
   "cell_type": "code",
   "execution_count": 21,
   "metadata": {},
   "outputs": [],
   "source": [
    "covid_filtered = covid_filtered[covid_filtered['verified'].notna()]"
   ]
  },
  {
   "cell_type": "code",
   "execution_count": 22,
   "metadata": {},
   "outputs": [
    {
     "name": "stdout",
     "output_type": "stream",
     "text": [
      "\u001b[4m\"Data before fillna with median value:\"\n",
      "\u001b[0m followers    0\n",
      "friends      0\n",
      "tweets       0\n",
      "likes        0\n",
      "dtype: int64\n",
      "\n",
      "\u001b[1m\u001b[92m\"Median Values to fill\" {'followers': 527.0, 'friends': 599.0, 'tweets': 5144.0, 'likes': 3193.0} \u001b[0m\n",
      "\n",
      "\u001b[4m\u001b[94m\"Sanity check: Data after fillna with median value\"\n",
      "\u001b[0m followers    0\n",
      "friends      0\n",
      "tweets       0\n",
      "likes        0\n",
      "dtype: int64\n"
     ]
    }
   ],
   "source": [
    "continuous = ['followers', 'friends', 'tweets', 'likes']\n",
    "d = {}\n",
    "print('\\033[4m\"Data before fillna with median value:\"\\n\\x1b[0m', covid_filtered[continuous].isna().sum())\n",
    "for i in continuous:\n",
    "    d[i] = covid_filtered[i].median()\n",
    "print('\\n\\033[1m\\33[92m\"Median Values to fill\"', d, '\\x1b[0m\\n')\n",
    "covid_filtered = covid_filtered.fillna(value=d)\n",
    "print('\\033[4m\\033[94m\"Sanity check: Data after fillna with median value\"\\n\\x1b[0m', covid_filtered[continuous].isna().sum())"
   ]
  },
  {
   "cell_type": "code",
   "execution_count": 23,
   "metadata": {},
   "outputs": [
    {
     "name": "stdout",
     "output_type": "stream",
     "text": [
      "Found 0 NaN username records.\n",
      "Found 0 NaN avatar records.\n",
      "Found 0 NaN followers records.\n",
      "Found 0 NaN friends records.\n",
      "Found 0 NaN geo_enabled records.\n",
      "Found 0 NaN tweets records.\n",
      "Found 0 NaN likes records.\n",
      "Found 0 NaN verified records.\n",
      "Found 0 NaN has_description records.\n"
     ]
    }
   ],
   "source": [
    "#Get the NaN values\n",
    "for i in covid_filtered.columns:\n",
    "    print(\"Found {} NaN {} records.\".format(covid_filtered[i].isna().sum(), i))"
   ]
  },
  {
   "cell_type": "code",
   "execution_count": 24,
   "metadata": {},
   "outputs": [
    {
     "data": {
      "text/html": [
       "<div>\n",
       "<style scoped>\n",
       "    .dataframe tbody tr th:only-of-type {\n",
       "        vertical-align: middle;\n",
       "    }\n",
       "\n",
       "    .dataframe tbody tr th {\n",
       "        vertical-align: top;\n",
       "    }\n",
       "\n",
       "    .dataframe thead th {\n",
       "        text-align: right;\n",
       "    }\n",
       "</style>\n",
       "<table border=\"1\" class=\"dataframe\">\n",
       "  <thead>\n",
       "    <tr style=\"text-align: right;\">\n",
       "      <th></th>\n",
       "      <th>username</th>\n",
       "      <th>avatar</th>\n",
       "      <th>followers</th>\n",
       "      <th>friends</th>\n",
       "      <th>geo_enabled</th>\n",
       "      <th>tweets</th>\n",
       "      <th>likes</th>\n",
       "      <th>verified</th>\n",
       "      <th>has_description</th>\n",
       "    </tr>\n",
       "  </thead>\n",
       "  <tbody>\n",
       "    <tr>\n",
       "      <th>0</th>\n",
       "      <td>ANCALERTS</td>\n",
       "      <td>https://pbs.twimg.com/profile_images/125764305...</td>\n",
       "      <td>4955553.0</td>\n",
       "      <td>771.0</td>\n",
       "      <td>1</td>\n",
       "      <td>719761.0</td>\n",
       "      <td>5444.0</td>\n",
       "      <td>1.0</td>\n",
       "      <td>1</td>\n",
       "    </tr>\n",
       "    <tr>\n",
       "      <th>1</th>\n",
       "      <td>DuvarEnglish</td>\n",
       "      <td>https://pbs.twimg.com/profile_images/118518765...</td>\n",
       "      <td>16092.0</td>\n",
       "      <td>1.0</td>\n",
       "      <td>0</td>\n",
       "      <td>7794.0</td>\n",
       "      <td>10.0</td>\n",
       "      <td>0.0</td>\n",
       "      <td>1</td>\n",
       "    </tr>\n",
       "    <tr>\n",
       "      <th>2</th>\n",
       "      <td>KTVOTV</td>\n",
       "      <td>https://pbs.twimg.com/profile_images/976217894...</td>\n",
       "      <td>9187.0</td>\n",
       "      <td>983.0</td>\n",
       "      <td>1</td>\n",
       "      <td>97617.0</td>\n",
       "      <td>165.0</td>\n",
       "      <td>1.0</td>\n",
       "      <td>1</td>\n",
       "    </tr>\n",
       "    <tr>\n",
       "      <th>3</th>\n",
       "      <td>YourMorning</td>\n",
       "      <td>https://pbs.twimg.com/profile_images/102135283...</td>\n",
       "      <td>19848.0</td>\n",
       "      <td>2522.0</td>\n",
       "      <td>0</td>\n",
       "      <td>52947.0</td>\n",
       "      <td>19054.0</td>\n",
       "      <td>1.0</td>\n",
       "      <td>1</td>\n",
       "    </tr>\n",
       "    <tr>\n",
       "      <th>4</th>\n",
       "      <td>CodaStory</td>\n",
       "      <td>https://pbs.twimg.com/profile_images/113373380...</td>\n",
       "      <td>12321.0</td>\n",
       "      <td>965.0</td>\n",
       "      <td>1</td>\n",
       "      <td>7580.0</td>\n",
       "      <td>2672.0</td>\n",
       "      <td>0.0</td>\n",
       "      <td>1</td>\n",
       "    </tr>\n",
       "  </tbody>\n",
       "</table>\n",
       "</div>"
      ],
      "text/plain": [
       "       username                                             avatar  followers  \\\n",
       "0     ANCALERTS  https://pbs.twimg.com/profile_images/125764305...  4955553.0   \n",
       "1  DuvarEnglish  https://pbs.twimg.com/profile_images/118518765...    16092.0   \n",
       "2        KTVOTV  https://pbs.twimg.com/profile_images/976217894...     9187.0   \n",
       "3   YourMorning  https://pbs.twimg.com/profile_images/102135283...    19848.0   \n",
       "4     CodaStory  https://pbs.twimg.com/profile_images/113373380...    12321.0   \n",
       "\n",
       "   friends  geo_enabled    tweets    likes  verified  has_description  \n",
       "0    771.0            1  719761.0   5444.0       1.0                1  \n",
       "1      1.0            0    7794.0     10.0       0.0                1  \n",
       "2    983.0            1   97617.0    165.0       1.0                1  \n",
       "3   2522.0            0   52947.0  19054.0       1.0                1  \n",
       "4    965.0            1    7580.0   2672.0       0.0                1  "
      ]
     },
     "execution_count": 24,
     "metadata": {},
     "output_type": "execute_result"
    }
   ],
   "source": [
    "covid_filtered.head()"
   ]
  },
  {
   "cell_type": "markdown",
   "metadata": {},
   "source": [
    "## Load COVID tweets into a csv file"
   ]
  },
  {
   "cell_type": "code",
   "execution_count": 25,
   "metadata": {},
   "outputs": [],
   "source": [
    "covid_filtered.to_csv(r'C:\\Users\\Maca\\Documents\\project_ml\\Project-Machine-Learning-CAPP\\Data-Cleaning\\COVID_tweet.csv', index = False)"
   ]
  },
  {
   "cell_type": "code",
   "execution_count": null,
   "metadata": {},
   "outputs": [],
   "source": []
  }
 ],
 "metadata": {
  "kernelspec": {
   "display_name": "Python 3",
   "language": "python",
   "name": "python3"
  },
  "language_info": {
   "codemirror_mode": {
    "name": "ipython",
    "version": 3
   },
   "file_extension": ".py",
   "mimetype": "text/x-python",
   "name": "python",
   "nbconvert_exporter": "python",
   "pygments_lexer": "ipython3",
   "version": "3.7.4"
  }
 },
 "nbformat": 4,
 "nbformat_minor": 2
}
